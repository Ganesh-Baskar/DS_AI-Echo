{
 "cells": [
  {
   "cell_type": "code",
   "execution_count": 1,
   "id": "a3b3ca07-3a0b-46c3-a95c-f12db3583ff4",
   "metadata": {},
   "outputs": [],
   "source": [
    "import pandas as pd\n",
    "import numpy as np\n",
    "import seaborn as sns"
   ]
  },
  {
   "cell_type": "markdown",
   "id": "3a6a7be7-7969-4b47-90fe-801b2d5d4dc5",
   "metadata": {},
   "source": [
    "# LOAD PROCESSED DATASET"
   ]
  },
  {
   "cell_type": "code",
   "execution_count": 2,
   "id": "87f02703-5460-4a6b-8fef-588487b7ebc2",
   "metadata": {},
   "outputs": [],
   "source": [
    "df = pd.read_csv(\"processed_reviews.csv\")"
   ]
  },
  {
   "cell_type": "code",
   "execution_count": 3,
   "id": "248d9f92-4f3f-4a13-ac5d-c1084a095310",
   "metadata": {},
   "outputs": [
    {
     "data": {
      "text/html": [
       "<div>\n",
       "<style scoped>\n",
       "    .dataframe tbody tr th:only-of-type {\n",
       "        vertical-align: middle;\n",
       "    }\n",
       "\n",
       "    .dataframe tbody tr th {\n",
       "        vertical-align: top;\n",
       "    }\n",
       "\n",
       "    .dataframe thead th {\n",
       "        text-align: right;\n",
       "    }\n",
       "</style>\n",
       "<table border=\"1\" class=\"dataframe\">\n",
       "  <thead>\n",
       "    <tr style=\"text-align: right;\">\n",
       "      <th></th>\n",
       "      <th>date</th>\n",
       "      <th>title</th>\n",
       "      <th>review</th>\n",
       "      <th>rating</th>\n",
       "      <th>username</th>\n",
       "      <th>helpful_votes</th>\n",
       "      <th>review_length</th>\n",
       "      <th>platform</th>\n",
       "      <th>language</th>\n",
       "      <th>location</th>\n",
       "      <th>version</th>\n",
       "      <th>verified_purchase</th>\n",
       "      <th>text</th>\n",
       "      <th>sentiment</th>\n",
       "    </tr>\n",
       "  </thead>\n",
       "  <tbody>\n",
       "    <tr>\n",
       "      <th>0</th>\n",
       "      <td>2025-02-15</td>\n",
       "      <td>Impressive</td>\n",
       "      <td>Mother former community upon vote fact. Sure s...</td>\n",
       "      <td>2</td>\n",
       "      <td>ybass</td>\n",
       "      <td>68</td>\n",
       "      <td>78</td>\n",
       "      <td>Mobile</td>\n",
       "      <td>es</td>\n",
       "      <td>Canada</td>\n",
       "      <td>3.0</td>\n",
       "      <td>No</td>\n",
       "      <td>{'sentences': ['Mother former community upon v...</td>\n",
       "      <td>Positive</td>\n",
       "    </tr>\n",
       "    <tr>\n",
       "      <th>1</th>\n",
       "      <td>2024-10-16</td>\n",
       "      <td>Waste of Time</td>\n",
       "      <td>General paper understand main. Or age half won...</td>\n",
       "      <td>5</td>\n",
       "      <td>glenn33</td>\n",
       "      <td>71</td>\n",
       "      <td>193</td>\n",
       "      <td>Web</td>\n",
       "      <td>de</td>\n",
       "      <td>India</td>\n",
       "      <td>4.1</td>\n",
       "      <td>Yes</td>\n",
       "      <td>{'sentences': ['General paper understand main....</td>\n",
       "      <td>Positive</td>\n",
       "    </tr>\n",
       "    <tr>\n",
       "      <th>2</th>\n",
       "      <td>2024-10-16</td>\n",
       "      <td>Waste of Time</td>\n",
       "      <td>Here situation his high stage. Agree certainly...</td>\n",
       "      <td>4</td>\n",
       "      <td>debbie27</td>\n",
       "      <td>66</td>\n",
       "      <td>184</td>\n",
       "      <td>Web</td>\n",
       "      <td>hi</td>\n",
       "      <td>India</td>\n",
       "      <td>4.1</td>\n",
       "      <td>Yes</td>\n",
       "      <td>{'sentences': ['Here situation his high stage....</td>\n",
       "      <td>Positive</td>\n",
       "    </tr>\n",
       "    <tr>\n",
       "      <th>3</th>\n",
       "      <td>2024-12-21</td>\n",
       "      <td>Not Accurate</td>\n",
       "      <td>Rule court behind growth reality. Tonight whos...</td>\n",
       "      <td>1</td>\n",
       "      <td>hannahrussell</td>\n",
       "      <td>5</td>\n",
       "      <td>193</td>\n",
       "      <td>Web</td>\n",
       "      <td>fr</td>\n",
       "      <td>Canada</td>\n",
       "      <td>4.0</td>\n",
       "      <td>Yes</td>\n",
       "      <td>{'sentences': ['Rule court behind growth reali...</td>\n",
       "      <td>Negative</td>\n",
       "    </tr>\n",
       "    <tr>\n",
       "      <th>4</th>\n",
       "      <td>2025-03-23</td>\n",
       "      <td>Fantastic Experience</td>\n",
       "      <td>Case opportunity season road write. Effort gre...</td>\n",
       "      <td>3</td>\n",
       "      <td>cnorton</td>\n",
       "      <td>71</td>\n",
       "      <td>131</td>\n",
       "      <td>Web</td>\n",
       "      <td>hi</td>\n",
       "      <td>Australia</td>\n",
       "      <td>4.1</td>\n",
       "      <td>No</td>\n",
       "      <td>{'sentences': ['Case opportunity season road w...</td>\n",
       "      <td>Positive</td>\n",
       "    </tr>\n",
       "  </tbody>\n",
       "</table>\n",
       "</div>"
      ],
      "text/plain": [
       "         date                 title  \\\n",
       "0  2025-02-15            Impressive   \n",
       "1  2024-10-16         Waste of Time   \n",
       "2  2024-10-16         Waste of Time   \n",
       "3  2024-12-21          Not Accurate   \n",
       "4  2025-03-23  Fantastic Experience   \n",
       "\n",
       "                                              review  rating       username  \\\n",
       "0  Mother former community upon vote fact. Sure s...       2          ybass   \n",
       "1  General paper understand main. Or age half won...       5        glenn33   \n",
       "2  Here situation his high stage. Agree certainly...       4       debbie27   \n",
       "3  Rule court behind growth reality. Tonight whos...       1  hannahrussell   \n",
       "4  Case opportunity season road write. Effort gre...       3        cnorton   \n",
       "\n",
       "   helpful_votes  review_length platform language   location  version  \\\n",
       "0             68             78   Mobile       es     Canada      3.0   \n",
       "1             71            193      Web       de      India      4.1   \n",
       "2             66            184      Web       hi      India      4.1   \n",
       "3              5            193      Web       fr     Canada      4.0   \n",
       "4             71            131      Web       hi  Australia      4.1   \n",
       "\n",
       "  verified_purchase                                               text  \\\n",
       "0                No  {'sentences': ['Mother former community upon v...   \n",
       "1               Yes  {'sentences': ['General paper understand main....   \n",
       "2               Yes  {'sentences': ['Here situation his high stage....   \n",
       "3               Yes  {'sentences': ['Rule court behind growth reali...   \n",
       "4                No  {'sentences': ['Case opportunity season road w...   \n",
       "\n",
       "  sentiment  \n",
       "0  Positive  \n",
       "1  Positive  \n",
       "2  Positive  \n",
       "3  Negative  \n",
       "4  Positive  "
      ]
     },
     "execution_count": 3,
     "metadata": {},
     "output_type": "execute_result"
    }
   ],
   "source": [
    "df.head()"
   ]
  },
  {
   "cell_type": "code",
   "execution_count": 4,
   "id": "83d6c980-a021-4801-8211-727990bbd80c",
   "metadata": {},
   "outputs": [],
   "source": [
    "import json\n",
    "\n",
    "# Safely parse the 'text' column and extract lemmatized words\n",
    "def extract_lemmatized_words(x):\n",
    "    try:\n",
    "        parsed = json.loads(x.replace(\"'\", '\"')) if isinstance(x, str) else x\n",
    "        return parsed.get(\"lemmatized_words\", [])\n",
    "    except json.JSONDecodeError:\n",
    "        return []\n",
    "\n",
    "# Apply extraction and conversion\n",
    "df[\"lemmatized_words\"] = df[\"text\"].apply(extract_lemmatized_words)\n",
    "df[\"lemmatized_sentences\"] = df[\"lemmatized_words\"].apply(lambda words: \" \".join(words))"
   ]
  },
  {
   "cell_type": "markdown",
   "id": "de5e7ae8-a790-41bc-ac58-76a499b7fb95",
   "metadata": {},
   "source": [
    "# FEATURE EXTRACTION"
   ]
  },
  {
   "cell_type": "code",
   "execution_count": 5,
   "id": "71e044ad-a495-45d9-8f20-dba9cba05edc",
   "metadata": {},
   "outputs": [
    {
     "name": "stdout",
     "output_type": "stream",
     "text": [
      "✅ TF-IDF vectorizer saved successfully to 'tfidf_vectorizer.pkl'\n"
     ]
    }
   ],
   "source": [
    "from sklearn.model_selection import train_test_split\n",
    "from sklearn.feature_extraction.text import TfidfVectorizer\n",
    "import pickle\n",
    "\n",
    "# Split the dataset into training and test sets\n",
    "X_train, X_test, y_train, y_test = train_test_split(\n",
    "    df[\"lemmatized_sentences\"],\n",
    "    df[\"sentiment\"],\n",
    "    test_size=0.2,\n",
    "    random_state=42\n",
    ")\n",
    "\n",
    "# Initialize and fit the TF-IDF vectorizer\n",
    "vectorizer = TfidfVectorizer()\n",
    "X_train_vec = vectorizer.fit_transform(X_train)\n",
    "X_test_vec = vectorizer.transform(X_test)\n",
    "\n",
    "# Save the fitted vectorizer as a pickle file\n",
    "with open(\"tfidf_vectorizer.pkl\", \"wb\") as f:\n",
    "    pickle.dump(vectorizer, f)\n",
    "\n",
    "print(\"✅ TF-IDF vectorizer saved successfully to 'tfidf_vectorizer.pkl'\")"
   ]
  },
  {
   "cell_type": "code",
   "execution_count": 6,
   "id": "ae40527a-a2f7-40bb-9206-8d6f1c596d2c",
   "metadata": {},
   "outputs": [],
   "source": [
    "from sklearn.preprocessing import LabelEncoder\n",
    "\n",
    "def encode_sentiment_labels(df, sentiment_col=\"sentiment\", new_col=\"sentiment_encoded\"):\n",
    "    label_encoder = LabelEncoder()\n",
    "    df[new_col] = label_encoder.fit_transform(df[sentiment_col])\n",
    "    return df, label_encoder\n",
    "\n",
    "# Usage\n",
    "df, sentiment_encoder = encode_sentiment_labels(df)"
   ]
  },
  {
   "cell_type": "code",
   "execution_count": 11,
   "id": "fab12c81-b835-4bd3-8273-154842e9fc88",
   "metadata": {},
   "outputs": [],
   "source": [
    "from imblearn.over_sampling import RandomOverSampler\n",
    "\n",
    "def oversample_data(X, y, seed=42):\n",
    "    sampler = RandomOverSampler(random_state=seed)\n",
    "    X_resampled, y_resampled = sampler.fit_resample(X, y)\n",
    "    return X_resampled, y_resampled\n",
    "\n",
    "# Apply oversampling to training vectors\n",
    "X_train_resampled, y_train_resampled = oversample_data(X_train_vec, y_train)"
   ]
  },
  {
   "cell_type": "markdown",
   "id": "717550e9-cf5c-4d4d-be47-2aa955f2ea3b",
   "metadata": {},
   "source": [
    "# MODEL TRAIN AND PREDICTIONMODEL TRAIN AND PREDICTION"
   ]
  },
  {
   "cell_type": "markdown",
   "id": "b50045c2-cd26-4d8f-9647-d893cda4fbaa",
   "metadata": {},
   "source": [
    "# NAIVE BAYES CLASSIFIER"
   ]
  },
  {
   "cell_type": "code",
   "execution_count": 12,
   "id": "e83e1f37-aa7a-40f7-9dca-742613f44d2a",
   "metadata": {},
   "outputs": [
    {
     "name": "stdout",
     "output_type": "stream",
     "text": [
      "✅ Classification Report:\n",
      "              precision    recall  f1-score   support\n",
      "\n",
      "    Negative       0.69      0.83      0.75       450\n",
      "     Neutral       0.58      0.76      0.66       192\n",
      "    Positive       0.95      0.84      0.89      1358\n",
      "\n",
      "    accuracy                           0.83      2000\n",
      "   macro avg       0.74      0.81      0.77      2000\n",
      "weighted avg       0.85      0.83      0.84      2000\n",
      "\n",
      "\n",
      "✅ Confusion Matrix:\n",
      "[[ 372   29   49]\n",
      " [  34  146   12]\n",
      " [ 137   75 1146]]\n",
      "\n",
      "✅ ROC-AUC Score (OvR): 0.9224\n"
     ]
    }
   ],
   "source": [
    "from sklearn.naive_bayes import MultinomialNB\n",
    "from sklearn.metrics import classification_report, confusion_matrix, roc_auc_score\n",
    "import numpy as np\n",
    "\n",
    "# Optional: Parameter grid for future tuning\n",
    "param_grid = {\n",
    "    'alpha': np.logspace(-2, 1, 20)  # Alpha values from 0.01 to 10\n",
    "}\n",
    "\n",
    "# Initialize and train the model\n",
    "nb_model = MultinomialNB()\n",
    "nb_model.fit(X_train_resampled, y_train_resampled)\n",
    "\n",
    "# Generate predictions\n",
    "y_pred = nb_model.predict(X_test_vec)\n",
    "y_prob = nb_model.predict_proba(X_test_vec)\n",
    "\n",
    "# Evaluate performance\n",
    "print(\"✅ Classification Report:\")\n",
    "print(classification_report(y_test, y_pred))\n",
    "\n",
    "print(\"\\n✅ Confusion Matrix:\")\n",
    "print(confusion_matrix(y_test, y_pred))\n",
    "\n",
    "roc_score = roc_auc_score(y_test, y_prob, multi_class='ovr')\n",
    "print(f\"\\n✅ ROC-AUC Score (OvR): {roc_score:.4f}\")"
   ]
  },
  {
   "cell_type": "markdown",
   "id": "095cc100-325c-446c-b440-1607a9dcca82",
   "metadata": {},
   "source": [
    "# SUPPORT VECTOR CLASSIFIER"
   ]
  },
  {
   "cell_type": "code",
   "execution_count": 19,
   "id": "4672214d-7c23-434b-9bd1-f6e2d03e4cb9",
   "metadata": {},
   "outputs": [
    {
     "name": "stdout",
     "output_type": "stream",
     "text": [
      "              precision    recall  f1-score   support\n",
      "\n",
      "    Negative       0.75      0.89      0.81       450\n",
      "     Neutral       0.55      0.84      0.67       192\n",
      "    Positive       0.97      0.84      0.90      1358\n",
      "\n",
      "    accuracy                           0.85      2000\n",
      "   macro avg       0.76      0.86      0.80      2000\n",
      "weighted avg       0.88      0.85      0.86      2000\n",
      "\n",
      "[[ 399   30   21]\n",
      " [  18  162   12]\n",
      " [ 114  100 1144]]\n",
      "Roc_Auc score:0.9638895759399385\n"
     ]
    },
    {
     "data": {
      "image/png": "[encoded data removed]",
      "text/plain": [
       "<Figure size 600x500 with 2 Axes>"
      ]
     },
     "metadata": {},
     "output_type": "display_data"
    },
    {
     "data": {
      "image/png": "[encoded data removed]",
      "text/plain": [
       "<Figure size 800x600 with 1 Axes>"
      ]
     },
     "metadata": {},
     "output_type": "display_data"
    }
   ],
   "source": [
    "#SVC\n",
    "\n",
    "import numpy as np\n",
    "import seaborn as sns\n",
    "import numpy as np\n",
    "import matplotlib.pyplot as plt\n",
    "from sklearn.metrics import roc_curve\n",
    "from sklearn.metrics import auc\n",
    "from sklearn.svm import SVC\n",
    "from sklearn.preprocessing import label_binarize\n",
    "from sklearn.utils.class_weight import compute_class_weight\n",
    "\n",
    "# Compute class weights\n",
    "class_weights = compute_class_weight('balanced', classes=np.unique(y_train_resampled), y=y_train_resampled)\n",
    "\n",
    "# Create a dictionary with correct class labels\n",
    "class_weight_dict = {cls: weight for cls, weight in zip(np.unique(y_train_resampled), class_weights)}\n",
    "\n",
    "model_svm = SVC(kernel='linear', C=1, probability=True, class_weight=class_weight_dict)\n",
    "model_svm.fit(X_train_resampled, y_train_resampled)\n",
    "\n",
    "y_pred_svm = model_svm.predict(X_test_vec)\n",
    "y_probs_svm = model_svm.predict_proba(X_test_vec)\n",
    "\n",
    "y_pred_svm = model_svm.predict(X_test_vec)\n",
    "y_pred_probability = model_svm.predict_proba(X_test_vec)\n",
    "\n",
    "print(classification_report(y_test, y_pred_svm))\n",
    "print(confusion_matrix(y_test,y_pred_svm))\n",
    "\n",
    "print(f\"Roc_Auc score:{roc_auc_score(y_test,y_pred_probability,multi_class='ovr')}\")\n",
    "\n",
    "\n",
    "# --- 1. Confusion Matrix Heatmap ---\n",
    "conf_matrix = confusion_matrix(y_test, y_pred_svm)\n",
    "plt.figure(figsize=(6, 5))\n",
    "sns.heatmap(conf_matrix, annot=True, fmt=\"d\", cmap=\"Blues\",\n",
    "            xticklabels=np.unique(y_test), yticklabels=np.unique(y_test))\n",
    "plt.title(\"SVM Confusion Matrix\")\n",
    "plt.xlabel(\"Predicted\")\n",
    "plt.ylabel(\"Actual\")\n",
    "plt.show()\n",
    "\n",
    "# --- 2. ROC Curve for Multiclass (One-vs-Rest) ---\n",
    "# Binarize the output\n",
    "classes = np.unique(y_test)\n",
    "y_test_bin = label_binarize(y_test, classes=classes)\n",
    "y_score = y_pred_probability\n",
    "\n",
    "fpr = dict()\n",
    "tpr = dict()\n",
    "roc_auc = dict()\n",
    "\n",
    "for i in range(len(classes)):\n",
    "    fpr[i], tpr[i], _ = roc_curve(y_test_bin[:, i], y_score[:, i])\n",
    "    roc_auc[i] = auc(fpr[i], tpr[i])\n",
    "\n",
    "# Plot all ROC curves\n",
    "plt.figure(figsize=(8, 6))\n",
    "for i in range(len(classes)):\n",
    "    plt.plot(fpr[i], tpr[i], label=f\"Class {classes[i]} (AUC = {roc_auc[i]:.2f})\")\n",
    "\n",
    "plt.plot([0, 1], [0, 1], \"k--\")\n",
    "plt.xlim([0.0, 1.0])\n",
    "plt.ylim([0.0, 1.05])\n",
    "plt.xlabel(\"False Positive Rate\")\n",
    "plt.ylabel(\"True Positive Rate\")\n",
    "plt.title(\"SVM ROC Curve - Multiclass\")\n",
    "plt.legend(loc=\"lower right\")\n",
    "plt.grid(True)\n",
    "plt.show()"
   ]
  },
  {
   "cell_type": "markdown",
   "id": "277d9f65-bf83-412f-9a70-b8515418abe7",
   "metadata": {},
   "source": [
    "# RANDOM FOREST CLASSIFIER"
   ]
  },
  {
   "cell_type": "code",
   "execution_count": 20,
   "id": "de7e7be3-5cac-4873-b75e-ff962554577a",
   "metadata": {},
   "outputs": [
    {
     "name": "stdout",
     "output_type": "stream",
     "text": [
      "✅  Accuracy Score: 0.6325\n",
      "\n",
      " ✅  Classification Report:\n",
      "               precision    recall  f1-score   support\n",
      "\n",
      "    Negative       0.68      0.68      0.68       450\n",
      "     Neutral       0.24      0.96      0.39       192\n",
      "    Positive       0.98      0.57      0.72      1358\n",
      "\n",
      "    accuracy                           0.63      2000\n",
      "   macro avg       0.63      0.74      0.60      2000\n",
      "weighted avg       0.84      0.63      0.68      2000\n",
      "\n",
      "\n",
      "✅  Confusion Matrix:\n",
      " [[306 130  14]\n",
      " [  6 184   2]\n",
      " [140 443 775]]\n",
      "\n",
      " ✅  ROC AUC Score (OvR): 0.902979622114458\n"
     ]
    }
   ],
   "source": [
    "from sklearn.ensemble import RandomForestClassifier\n",
    "from sklearn.metrics import (\n",
    "    accuracy_score,\n",
    "    classification_report,\n",
    "    confusion_matrix,\n",
    "    roc_auc_score\n",
    ")\n",
    "\n",
    "# --- 1. Initialize and Train the Random Forest Model ---\n",
    "model_rf = RandomForestClassifier(max_depth=2, random_state=42)\n",
    "model_rf.fit(X_train_resampled, y_train_resampled)\n",
    "\n",
    "# --- 2. Make Predictions ---\n",
    "y_pred_rf = model_rf.predict(X_test_vec)\n",
    "y_pred_proba_rf = model_rf.predict_proba(X_test_vec)\n",
    "\n",
    "# --- 3. Evaluation Metrics ---\n",
    "print(\"✅  Accuracy Score:\", accuracy_score(y_test, y_pred_rf))\n",
    "print(\"\\n ✅  Classification Report:\\n\", classification_report(y_test, y_pred_rf))\n",
    "print(\"\\n✅  Confusion Matrix:\\n\", confusion_matrix(y_test, y_pred_rf))\n",
    "print(\"\\n ✅  ROC AUC Score (OvR):\", roc_auc_score(y_test, y_pred_proba_rf, multi_class='ovr'))\n"
   ]
  },
  {
   "cell_type": "markdown",
   "id": "80818168-8b09-4584-a3c0-4191de761c4d",
   "metadata": {},
   "source": [
    "# LONG SHORT TERM MEMORY"
   ]
  },
  {
   "cell_type": "code",
   "execution_count": 26,
   "id": "6647c313-a326-40a7-8483-17a3dd414528",
   "metadata": {},
   "outputs": [
    {
     "name": "stdout",
     "output_type": "stream",
     "text": [
      "Epoch 1/5\n",
      "\u001b[1m1003/1003\u001b[0m \u001b[32m━━━━━━━━━━━━━━━━━━━━\u001b[0m\u001b[37m\u001b[0m \u001b[1m107s\u001b[0m 101ms/step - accuracy: 0.3333 - loss: 1.1016 - val_accuracy: 0.2250 - val_loss: 1.1123\n",
      "Epoch 2/5\n",
      "\u001b[1m1003/1003\u001b[0m \u001b[32m━━━━━━━━━━━━━━━━━━━━\u001b[0m\u001b[37m\u001b[0m \u001b[1m102s\u001b[0m 102ms/step - accuracy: 0.3371 - loss: 1.0994 - val_accuracy: 0.6790 - val_loss: 1.0803\n",
      "Epoch 3/5\n",
      "\u001b[1m1003/1003\u001b[0m \u001b[32m━━━━━━━━━━━━━━━━━━━━\u001b[0m\u001b[37m\u001b[0m \u001b[1m100s\u001b[0m 100ms/step - accuracy: 0.3408 - loss: 1.0992 - val_accuracy: 0.0960 - val_loss: 1.0960\n",
      "Epoch 4/5\n",
      "\u001b[1m1003/1003\u001b[0m \u001b[32m━━━━━━━━━━━━━━━━━━━━\u001b[0m\u001b[37m\u001b[0m \u001b[1m102s\u001b[0m 101ms/step - accuracy: 0.3296 - loss: 1.0994 - val_accuracy: 0.6790 - val_loss: 1.0944\n",
      "Epoch 5/5\n",
      "\u001b[1m1003/1003\u001b[0m \u001b[32m━━━━━━━━━━━━━━━━━━━━\u001b[0m\u001b[37m\u001b[0m \u001b[1m101s\u001b[0m 101ms/step - accuracy: 0.3348 - loss: 1.0992 - val_accuracy: 0.6790 - val_loss: 1.0882\n",
      "\u001b[1m63/63\u001b[0m \u001b[32m━━━━━━━━━━━━━━━━━━━━\u001b[0m\u001b[37m\u001b[0m \u001b[1m4s\u001b[0m 61ms/step\n",
      "\n",
      "🔹 Classification Report:\n",
      "               precision    recall  f1-score   support\n",
      "\n",
      "           0       0.00      0.00      0.00       450\n",
      "           1       0.00      0.00      0.00       192\n",
      "           2       0.68      1.00      0.81      1358\n",
      "\n",
      "    accuracy                           0.68      2000\n",
      "   macro avg       0.23      0.33      0.27      2000\n",
      "weighted avg       0.46      0.68      0.55      2000\n",
      "\n",
      "\n",
      "🔹 Confusion Matrix:\n",
      " [[   0    0  450]\n",
      " [   0    0  192]\n",
      " [   0    0 1358]]\n",
      "\n",
      "🔹 ROC AUC Score (OvR): 0.5000\n"
     ]
    },
    {
     "name": "stderr",
     "output_type": "stream",
     "text": [
      "C:\\Users\\Ganesh Baskar\\AppData\\Local\\Programs\\Python\\Python310\\lib\\site-packages\\sklearn\\metrics\\_classification.py:1565: UndefinedMetricWarning: Precision is ill-defined and being set to 0.0 in labels with no predicted samples. Use `zero_division` parameter to control this behavior.\n",
      "  _warn_prf(average, modifier, f\"{metric.capitalize()} is\", len(result))\n",
      "C:\\Users\\Ganesh Baskar\\AppData\\Local\\Programs\\Python\\Python310\\lib\\site-packages\\sklearn\\metrics\\_classification.py:1565: UndefinedMetricWarning: Precision is ill-defined and being set to 0.0 in labels with no predicted samples. Use `zero_division` parameter to control this behavior.\n",
      "  _warn_prf(average, modifier, f\"{metric.capitalize()} is\", len(result))\n",
      "C:\\Users\\Ganesh Baskar\\AppData\\Local\\Programs\\Python\\Python310\\lib\\site-packages\\sklearn\\metrics\\_classification.py:1565: UndefinedMetricWarning: Precision is ill-defined and being set to 0.0 in labels with no predicted samples. Use `zero_division` parameter to control this behavior.\n",
      "  _warn_prf(average, modifier, f\"{metric.capitalize()} is\", len(result))\n"
     ]
    }
   ],
   "source": [
    "from tensorflow.keras.models import Sequential\n",
    "from tensorflow.keras.layers import Embedding, LSTM, Dense, Dropout\n",
    "from tensorflow.keras.preprocessing.sequence import pad_sequences\n",
    "from sklearn.preprocessing import LabelEncoder\n",
    "from sklearn.metrics import classification_report, confusion_matrix, roc_auc_score\n",
    "\n",
    "\n",
    "# --- 1. Define the LSTM Model Architecture ---\n",
    "model_lstm = Sequential([\n",
    "    Embedding(input_dim=5000, output_dim=128, input_length=X_train_resampled.shape[1]),  # Word Embedding\n",
    "    LSTM(128, return_sequences=True),  # First LSTM layer with return_sequences\n",
    "    LSTM(64),                           # Second LSTM layer\n",
    "    Dropout(0.5),                       # Dropout layer to prevent overfitting\n",
    "    Dense(3, activation='softmax')      # Output layer for 3-class classification\n",
    "])\n",
    "\n",
    "# --- 2. Compile the Model ---\n",
    "model_lstm.compile(\n",
    "    optimizer='adam',\n",
    "    loss='sparse_categorical_crossentropy',  # Suitable for integer-encoded labels\n",
    "    metrics=['accuracy']\n",
    ")\n",
    "\n",
    "# --- 3. Preprocess Input Data (Pad Sequences) ---\n",
    "x_train_dense = X_train_resampled.toarray()\n",
    "x_test_dense = X_test_vec.toarray()\n",
    "\n",
    "x_train_padded = pad_sequences(x_train_dense, maxlen=100, padding='post', truncating='post')\n",
    "x_test_padded = pad_sequences(x_test_dense, maxlen=100, padding='post', truncating='post')\n",
    "\n",
    "# --- 4. Encode Labels ---\n",
    "label_encoder = LabelEncoder()\n",
    "y_train_encoded = label_encoder.fit_transform(y_train_resampled)\n",
    "y_test_encoded = label_encoder.transform(y_test)\n",
    "\n",
    "# Convert labels to numpy int32 arrays\n",
    "y_train_encoded = np.array(y_train_encoded, dtype=np.int32)\n",
    "y_test_encoded = np.array(y_test_encoded, dtype=np.int32)\n",
    "\n",
    "# --- 5. Train the LSTM Model ---\n",
    "model_lstm.fit(\n",
    "    x_train_padded,\n",
    "    y_train_encoded,\n",
    "    epochs=5,\n",
    "    batch_size=16,\n",
    "    validation_data=(x_test_padded, y_test_encoded)\n",
    ")\n",
    "\n",
    "# --- 6. Make Predictions ---\n",
    "y_pred_prob = model_lstm.predict(x_test_padded)\n",
    "y_pred = np.argmax(y_pred_prob, axis=1)\n",
    "\n",
    "# --- 7. Evaluate the Model ---\n",
    "print(\"\\n🔹 Classification Report:\\n\", classification_report(y_test_encoded, y_pred))\n",
    "print(\"\\n🔹 Confusion Matrix:\\n\", confusion_matrix(y_test_encoded, y_pred))\n",
    "print(f\"\\n🔹 ROC AUC Score (OvR): {roc_auc_score(y_test_encoded, y_pred_prob, multi_class='ovr'):.4f}\")\n"
   ]
  },
  {
   "cell_type": "markdown",
   "id": "d8fdd44b-b41c-41f2-9ff4-dd716d2d6beb",
   "metadata": {},
   "source": [
    "# SIMPLE RNN CLASSIFIER"
   ]
  },
  {
   "cell_type": "code",
   "execution_count": 28,
   "id": "a2252392-5947-4de6-bddc-2a58f354bcb3",
   "metadata": {},
   "outputs": [
    {
     "name": "stdout",
     "output_type": "stream",
     "text": [
      "Epoch 1/5\n"
     ]
    },
    {
     "name": "stderr",
     "output_type": "stream",
     "text": [
      "C:\\Users\\Ganesh Baskar\\AppData\\Local\\Programs\\Python\\Python310\\lib\\site-packages\\keras\\src\\layers\\core\\embedding.py:97: UserWarning: Argument `input_length` is deprecated. Just remove it.\n",
      "  warnings.warn(\n"
     ]
    },
    {
     "name": "stdout",
     "output_type": "stream",
     "text": [
      "\u001b[1m1003/1003\u001b[0m \u001b[32m━━━━━━━━━━━━━━━━━━━━\u001b[0m\u001b[37m\u001b[0m \u001b[1m49s\u001b[0m 45ms/step - accuracy: 0.3387 - loss: 1.2202 - val_accuracy: 0.2250 - val_loss: 1.0409\n",
      "Epoch 2/5\n",
      "\u001b[1m1003/1003\u001b[0m \u001b[32m━━━━━━━━━━━━━━━━━━━━\u001b[0m\u001b[37m\u001b[0m \u001b[1m45s\u001b[0m 45ms/step - accuracy: 0.3451 - loss: 1.1260 - val_accuracy: 0.6790 - val_loss: 1.0407\n",
      "Epoch 3/5\n",
      "\u001b[1m1003/1003\u001b[0m \u001b[32m━━━━━━━━━━━━━━━━━━━━\u001b[0m\u001b[37m\u001b[0m \u001b[1m45s\u001b[0m 45ms/step - accuracy: 0.3275 - loss: 1.1039 - val_accuracy: 0.2250 - val_loss: 1.1582\n",
      "Epoch 4/5\n",
      "\u001b[1m1003/1003\u001b[0m \u001b[32m━━━━━━━━━━━━━━━━━━━━\u001b[0m\u001b[37m\u001b[0m \u001b[1m44s\u001b[0m 44ms/step - accuracy: 0.3255 - loss: 1.1022 - val_accuracy: 0.0960 - val_loss: 1.2213\n",
      "Epoch 5/5\n",
      "\u001b[1m1003/1003\u001b[0m \u001b[32m━━━━━━━━━━━━━━━━━━━━\u001b[0m\u001b[37m\u001b[0m \u001b[1m51s\u001b[0m 51ms/step - accuracy: 0.3273 - loss: 1.1050 - val_accuracy: 0.6790 - val_loss: 1.0697\n",
      "\u001b[1m63/63\u001b[0m \u001b[32m━━━━━━━━━━━━━━━━━━━━\u001b[0m\u001b[37m\u001b[0m \u001b[1m2s\u001b[0m 21ms/step\n",
      "✅ Classification Report:\n",
      "               precision    recall  f1-score   support\n",
      "\n",
      "           0       0.00      0.00      0.00       450\n",
      "           1       0.00      0.00      0.00       192\n",
      "           2       0.68      1.00      0.81      1358\n",
      "\n",
      "    accuracy                           0.68      2000\n",
      "   macro avg       0.23      0.33      0.27      2000\n",
      "weighted avg       0.46      0.68      0.55      2000\n",
      "\n",
      "\n",
      "✅ Confusion Matrix:\n",
      " [[   0    0  450]\n",
      " [   0    0  192]\n",
      " [   0    0 1358]]\n",
      "\n",
      "✅ ROC AUC Score (OvR): 0.4995\n"
     ]
    },
    {
     "name": "stderr",
     "output_type": "stream",
     "text": [
      "C:\\Users\\Ganesh Baskar\\AppData\\Local\\Programs\\Python\\Python310\\lib\\site-packages\\sklearn\\metrics\\_classification.py:1565: UndefinedMetricWarning: Precision is ill-defined and being set to 0.0 in labels with no predicted samples. Use `zero_division` parameter to control this behavior.\n",
      "  _warn_prf(average, modifier, f\"{metric.capitalize()} is\", len(result))\n",
      "C:\\Users\\Ganesh Baskar\\AppData\\Local\\Programs\\Python\\Python310\\lib\\site-packages\\sklearn\\metrics\\_classification.py:1565: UndefinedMetricWarning: Precision is ill-defined and being set to 0.0 in labels with no predicted samples. Use `zero_division` parameter to control this behavior.\n",
      "  _warn_prf(average, modifier, f\"{metric.capitalize()} is\", len(result))\n",
      "C:\\Users\\Ganesh Baskar\\AppData\\Local\\Programs\\Python\\Python310\\lib\\site-packages\\sklearn\\metrics\\_classification.py:1565: UndefinedMetricWarning: Precision is ill-defined and being set to 0.0 in labels with no predicted samples. Use `zero_division` parameter to control this behavior.\n",
      "  _warn_prf(average, modifier, f\"{metric.capitalize()} is\", len(result))\n"
     ]
    }
   ],
   "source": [
    "import numpy as np\n",
    "import matplotlib.pyplot as plt\n",
    "from sklearn.preprocessing import LabelEncoder\n",
    "from sklearn.metrics import classification_report, confusion_matrix, roc_auc_score\n",
    "from tensorflow.keras.models import Sequential\n",
    "from tensorflow.keras.layers import Embedding, SimpleRNN, Dense, Dropout\n",
    "from tensorflow.keras.preprocessing.sequence import pad_sequences\n",
    "\n",
    "# Step 1: Prepare the Data\n",
    "x_train_dense = X_train_resampled.toarray()\n",
    "x_test_dense = X_test_vec.toarray()\n",
    "\n",
    "# Pad sequences to fixed length\n",
    "max_seq_len = 100\n",
    "x_train_padded = pad_sequences(x_train_dense, maxlen=max_seq_len, padding='post', truncating='post')\n",
    "x_test_padded = pad_sequences(x_test_dense, maxlen=max_seq_len, padding='post', truncating='post')\n",
    "\n",
    "# Step 2: Encode Labels\n",
    "label_encoder = LabelEncoder()\n",
    "y_train_encoded = label_encoder.fit_transform(y_train_resampled)\n",
    "y_test_encoded = label_encoder.transform(y_test)\n",
    "\n",
    "y_train_np = np.array(y_train_encoded, dtype=np.int32)\n",
    "y_test_np = np.array(y_test_encoded, dtype=np.int32)\n",
    "\n",
    "#  Step 3: Define RNN Model\n",
    "model = Sequential([\n",
    "    Embedding(input_dim=5000, output_dim=128, input_length=max_seq_len),\n",
    "    SimpleRNN(128, return_sequences=True),\n",
    "    SimpleRNN(64),\n",
    "    Dropout(0.5),\n",
    "    Dense(3, activation='softmax')\n",
    "])\n",
    "\n",
    "# Step 4: Compile the Model\n",
    "model.compile(optimizer='adam', loss='sparse_categorical_crossentropy', metrics=['accuracy'])\n",
    "\n",
    "# Step 5: Train the Model\n",
    "model.fit(x_train_padded, y_train_np, epochs=5, batch_size=16, validation_data=(x_test_padded, y_test_np))\n",
    "\n",
    "# Step 6: Evaluate the Model\n",
    "y_pred_probs = model.predict(x_test_padded)\n",
    "y_pred_classes = np.argmax(y_pred_probs, axis=1)\n",
    "\n",
    "# 📊 Metrics Output\n",
    "print(\"✅ Classification Report:\\n\", classification_report(y_test_np, y_pred_classes))\n",
    "print(\"\\n✅ Confusion Matrix:\\n\", confusion_matrix(y_test_np, y_pred_classes))\n",
    "print(f\"\\n✅ ROC AUC Score (OvR): {roc_auc_score(y_test_np, y_pred_probs, multi_class='ovr'):.4f}\")"
   ]
  },
  {
   "cell_type": "markdown",
   "id": "b6607ef7-e9fd-4893-acf1-1346f6476945",
   "metadata": {},
   "source": [
    "# GENERATE PICKLE MODEL"
   ]
  },
  {
   "cell_type": "code",
   "execution_count": 29,
   "id": "309d58c0-079c-4e6c-9874-c0586a8eedff",
   "metadata": {},
   "outputs": [
    {
     "name": "stdout",
     "output_type": "stream",
     "text": [
      "pickle file saved Successfully!\n"
     ]
    }
   ],
   "source": [
    "with open(\"best_sentimental_model.pkl\",\"wb\") as file:\n",
    "    pickle.dump(model_svm,file)\n",
    "\n",
    "print(\"pickle file saved Successfully!\")"
   ]
  },
  {
   "cell_type": "markdown",
   "id": "14d5fe98-95a0-47f5-b8d9-e205d89d5918",
   "metadata": {},
   "source": [
    "# GENERATE VECTORISER AS PICKLE FILE"
   ]
  },
  {
   "cell_type": "code",
   "execution_count": 31,
   "id": "49778d62-ddee-4e40-b79e-141586df1d7d",
   "metadata": {},
   "outputs": [
    {
     "name": "stdout",
     "output_type": "stream",
     "text": [
      "pickle file saved Successfully!\n"
     ]
    }
   ],
   "source": [
    "with open(\"tf_idf_vectoriser.pkl\",\"wb\") as file:\n",
    "    pickle.dump(vectorizer,file)\n",
    "print(\"pickle file saved Successfully!\")"
   ]
  },
  {
   "cell_type": "code",
   "execution_count": null,
   "id": "246ed354-825c-4e6e-bf8a-b8fb84c4375d",
   "metadata": {},
   "outputs": [],
   "source": []
  }
 ],
 "metadata": {
  "kernelspec": {
   "display_name": "Python 3 (ipykernel)",
   "language": "python",
   "name": "python3"
  },
  "language_info": {
   "codemirror_mode": {
    "name": "ipython",
    "version": 3
   },
   "file_extension": ".py",
   "mimetype": "text/x-python",
   "name": "python",
   "nbconvert_exporter": "python",
   "pygments_lexer": "ipython3",
   "version": "3.10.11"
  }
 },
 "nbformat": 4,
 "nbformat_minor": 5
}
